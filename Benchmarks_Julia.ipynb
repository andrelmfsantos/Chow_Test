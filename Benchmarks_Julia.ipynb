{
 "cells": [
  {
   "cell_type": "markdown",
   "id": "f797885f",
   "metadata": {},
   "source": [
    "* PPGI\n",
    "* Computação Científica com Julia\n",
    "* Prof. José E. Storópoli\n",
    "* Aluno: André Santos"
   ]
  },
  {
   "cell_type": "code",
   "execution_count": 1,
   "id": "9d3af154",
   "metadata": {},
   "outputs": [
    {
     "name": "stderr",
     "output_type": "stream",
     "text": [
      "\u001b[32m\u001b[1m    Updating\u001b[22m\u001b[39m registry at `C:\\Users\\andre\\.julia\\registries\\General.toml`\n",
      "\u001b[32m\u001b[1m   Resolving\u001b[22m\u001b[39m package versions...\n",
      "\u001b[32m\u001b[1m  No Changes\u001b[22m\u001b[39m to `C:\\Users\\andre\\.julia\\environments\\v1.7\\Project.toml`\n",
      "\u001b[32m\u001b[1m  No Changes\u001b[22m\u001b[39m to `C:\\Users\\andre\\.julia\\environments\\v1.7\\Manifest.toml`\n"
     ]
    }
   ],
   "source": [
    "# Packages requires to load the dataset\n",
    "using Pkg\n",
    "Pkg.add(\"DataFrames\")\n",
    "using DataFrames"
   ]
  },
  {
   "cell_type": "code",
   "execution_count": 2,
   "id": "fe97284d",
   "metadata": {},
   "outputs": [],
   "source": [
    "date = [1992,1993,1994,1995,1996,1997,1998,1999,2000,2001,2002,2003,2004,2005,2006,2007,2008,2009,2010,2011,\n",
    "    2012,2013,2014,2015,2016,2017,2018,2019];\n",
    "    \n",
    "pop = [2,1,4,2,1,4,2,2,1,6,7,7,8,8,8,8,11,11,13,21,21,36,24,41,46,46,59,53];\n",
    "df = DataFrame( varx = date, vary = pop);"
   ]
  },
  {
   "cell_type": "markdown",
   "id": "0c1302f8",
   "metadata": {},
   "source": [
    "## Get the sum of the squares of the residuals (total, before and after break point) "
   ]
  },
  {
   "cell_type": "code",
   "execution_count": 3,
   "id": "34abe113",
   "metadata": {},
   "outputs": [
    {
     "data": {
      "text/html": [
       "<div class=\"data-frame\"><p>9 rows × 2 columns</p><table class=\"data-frame\"><thead><tr><th></th><th>varx</th><th>vary</th></tr><tr><th></th><th title=\"Int64\">Int64</th><th title=\"Int64\">Int64</th></tr></thead><tbody><tr><th>1</th><td>2011</td><td>21</td></tr><tr><th>2</th><td>2012</td><td>21</td></tr><tr><th>3</th><td>2013</td><td>36</td></tr><tr><th>4</th><td>2014</td><td>24</td></tr><tr><th>5</th><td>2015</td><td>41</td></tr><tr><th>6</th><td>2016</td><td>46</td></tr><tr><th>7</th><td>2017</td><td>46</td></tr><tr><th>8</th><td>2018</td><td>59</td></tr><tr><th>9</th><td>2019</td><td>53</td></tr></tbody></table></div>"
      ],
      "text/latex": [
       "\\begin{tabular}{r|cc}\n",
       "\t& varx & vary\\\\\n",
       "\t\\hline\n",
       "\t& Int64 & Int64\\\\\n",
       "\t\\hline\n",
       "\t1 & 2011 & 21 \\\\\n",
       "\t2 & 2012 & 21 \\\\\n",
       "\t3 & 2013 & 36 \\\\\n",
       "\t4 & 2014 & 24 \\\\\n",
       "\t5 & 2015 & 41 \\\\\n",
       "\t6 & 2016 & 46 \\\\\n",
       "\t7 & 2017 & 46 \\\\\n",
       "\t8 & 2018 & 59 \\\\\n",
       "\t9 & 2019 & 53 \\\\\n",
       "\\end{tabular}\n"
      ],
      "text/plain": [
       "\u001b[1m9×2 DataFrame\u001b[0m\n",
       "\u001b[1m Row \u001b[0m│\u001b[1m varx  \u001b[0m\u001b[1m vary  \u001b[0m\n",
       "\u001b[1m     \u001b[0m│\u001b[90m Int64 \u001b[0m\u001b[90m Int64 \u001b[0m\n",
       "─────┼──────────────\n",
       "   1 │  2011     21\n",
       "   2 │  2012     21\n",
       "   3 │  2013     36\n",
       "   4 │  2014     24\n",
       "   5 │  2015     41\n",
       "   6 │  2016     46\n",
       "   7 │  2017     46\n",
       "   8 │  2018     59\n",
       "   9 │  2019     53"
      ]
     },
     "execution_count": 3,
     "metadata": {},
     "output_type": "execute_result"
    }
   ],
   "source": [
    "# Define time series for Chow test:\n",
    "#point break = 2010\n",
    "start_df1, end_df1 = 1992, 2010                                      # range for series 1 (obs:\"end_df1 = point break\")\n",
    "start_df2, end_df2 = end_df1+1, 2019                                 # range for series 2\n",
    "df1 = filter(r -> r.varx >= start_df1 && r.varx <= end_df1, df)      # time series before point break\n",
    "df2 = filter(r -> r.varx >= start_df2 && r.varx <= end_df2, df)      # time series after point break"
   ]
  },
  {
   "cell_type": "code",
   "execution_count": 4,
   "id": "1c5efeb1",
   "metadata": {},
   "outputs": [
    {
     "data": {
      "text/plain": [
       "([2011, 2012, 2013, 2014, 2015, 2016, 2017, 2018, 2019], [21, 21, 36, 24, 41, 46, 46, 59, 53])"
      ]
     },
     "execution_count": 4,
     "metadata": {},
     "output_type": "execute_result"
    }
   ],
   "source": [
    "# Variables for Chow test:\n",
    "x , y = copy(df[:,:varx]), copy(df[:,:vary])         # variables from original dataset\n",
    "x1 , y1 = copy(df1[:,:varx]), copy(df1[:,:vary])     # variables from series before point break\n",
    "x2 , y2 = copy(df2[:,:varx]), copy(df2[:,:vary])     # variables from series after point break"
   ]
  },
  {
   "cell_type": "code",
   "execution_count": 5,
   "id": "151d8f55",
   "metadata": {},
   "outputs": [
    {
     "data": {
      "text/plain": [
       "233.95555555557337"
      ]
     },
     "execution_count": 5,
     "metadata": {},
     "output_type": "execute_result"
    }
   ],
   "source": [
    "# Alternative formulas ***************************************************************************************************\n",
    "# Original dataset ----------------------------------------------------------------------------------------------- \n",
    "k = 2                                        # number of samples (series before and after point break)\n",
    "n = length(x)                                # total scores from original dataset\n",
    "sum_x, sum_y = sum(x), sum(y)                # sum of independent and dependent variables from original series\n",
    "mean_x, mean_y = sum(x)/n, sum(y)/n          # average of independent and dependent variables from original series\n",
    "SSxy = sum((x.-mean_x).*(y.-mean_y))         # covariance of X and Y\n",
    "SSxx = sum((x.-mean_x).^2)                   # variance in X\n",
    "b = SSxy/SSxx                                # regression coefficient\n",
    "a = mean_y - b*mean_x                        # intercept\n",
    "yi = a .+ b.*x                               # estimated (or predicted) y value for observation i\n",
    "RSSp = sum((y .- yi).^2)                     # Resiual sum of square (errors)\n",
    "# Series 1 ------------------------------------------------------------------------------------------------------ \n",
    "n1 = length(x1)                              # total scores from series 1\n",
    "gl1 = n1 - k                                 # numerator degrees freedom\n",
    "sum_x1, sum_y1 = sum(x1), sum(y1)            # sum of independent and dependent variables from series 1\n",
    "mean_x1, mean_y1 = sum(x1)/n1, sum(y1)/n1    # average of independent and dependent variables from series 1\n",
    "SSxy1 = sum((x1.-mean_x1).*(y1.-mean_y1))    # covariance of X1 and Y1\n",
    "SSxx1 = sum((x1.-mean_x1).^2)                # variance in X1\n",
    "b1 = SSxy1/SSxx1                             # regression coefficient (series 1)\n",
    "a1 = mean_y1 - b1*mean_x1                    # intercept (series 1)\n",
    "yi1 = a1 .+ b1.*x1                           # estimated y value for observation i (series 1)\n",
    "RSS1 = sum((y1 .- yi1).^2)                   # Residual sum of square before break\n",
    "# Series 2 ------------------------------------------------------------------------------------------------------ \n",
    "n2 = length(x2)                              # total scores from series 2\n",
    "gl2 = n2 - k                                 # denominator degrees freedom\n",
    "sum_x2, sum_y2 = sum(x2), sum(y2)            # sum of independent and dependent variables from series 2\n",
    "mean_x2, mean_y2 = sum(x2)/n2, sum(y2)/n2    # average of independent and dependent variables from series 2\n",
    "SSxy2 = sum((x2.-mean_x2).*(y2.-mean_y2))    # covariance of X2 and Y2\n",
    "SSxx2 = sum((x2.-mean_x2).^2)                # variance in X2\n",
    "b2 = SSxy2/SSxx2                             # regression coefficient (series 2)\n",
    "a2 = mean_y2 - b2*mean_x2                    # intercept (series 2)\n",
    "yi2 = a2 .+ b2.*x2                           # estimated y value for observation i (series 2)\n",
    "RSS2 = sum((y2 .- yi2).^2)                   # Residual sum of square after break"
   ]
  },
  {
   "cell_type": "markdown",
   "id": "77b42791",
   "metadata": {},
   "source": [
    "## [BenchmarkTools.jl](https://juliaci.github.io/BenchmarkTools.jl/stable/)"
   ]
  },
  {
   "cell_type": "code",
   "execution_count": 6,
   "id": "15827610",
   "metadata": {},
   "outputs": [
    {
     "name": "stderr",
     "output_type": "stream",
     "text": [
      "\u001b[32m\u001b[1m   Resolving\u001b[22m\u001b[39m package versions...\n",
      "\u001b[32m\u001b[1m  No Changes\u001b[22m\u001b[39m to `C:\\Users\\andre\\.julia\\environments\\v1.7\\Project.toml`\n",
      "\u001b[32m\u001b[1m  No Changes\u001b[22m\u001b[39m to `C:\\Users\\andre\\.julia\\environments\\v1.7\\Manifest.toml`\n"
     ]
    }
   ],
   "source": [
    "# Packages requires to load the dataset\n",
    "#using Pkg\n",
    "Pkg.add(\"BenchmarkTools\")\n",
    "using BenchmarkTools"
   ]
  },
  {
   "cell_type": "code",
   "execution_count": 7,
   "id": "18036703",
   "metadata": {},
   "outputs": [
    {
     "data": {
      "text/plain": [
       "mat_coeff (generic function with 1 method)"
      ]
     },
     "execution_count": 7,
     "metadata": {},
     "output_type": "execute_result"
    }
   ],
   "source": [
    "# Return regression coefficient\n",
    "function mat_coeff(y, x)\n",
    "    k = 2\n",
    "    n = length(x)\n",
    "    sum_x, sum_y = sum(x), sum(y)\n",
    "    mean_x, mean_y = sum(x)/n, sum(y)/n\n",
    "    SSxy = sum((x.-mean_x).*(y.-mean_y))\n",
    "    SSxx = sum((x.-mean_x).^2)\n",
    "    b = SSxy/SSxx\n",
    "    return(b)\n",
    "end"
   ]
  },
  {
   "cell_type": "code",
   "execution_count": 8,
   "id": "8a293521",
   "metadata": {},
   "outputs": [
    {
     "ename": "LoadError",
     "evalue": "UndefVarError: reg_coeff not defined",
     "output_type": "error",
     "traceback": [
      "UndefVarError: reg_coeff not defined",
      "",
      "Stacktrace:",
      " [1] top-level scope",
      "   @ In[8]:2",
      " [2] eval",
      "   @ .\\boot.jl:373 [inlined]",
      " [3] include_string(mapexpr::typeof(REPL.softscope), mod::Module, code::String, filename::String)",
      "   @ Base .\\loading.jl:1196"
     ]
    }
   ],
   "source": [
    "# regression coefficient\n",
    "reg_coeff(y,x)"
   ]
  },
  {
   "cell_type": "code",
   "execution_count": 9,
   "id": "22435fdb",
   "metadata": {},
   "outputs": [
    {
     "name": "stderr",
     "output_type": "stream",
     "text": [
      "\u001b[32m\u001b[1m   Resolving\u001b[22m\u001b[39m package versions...\n",
      "\u001b[32m\u001b[1m  No Changes\u001b[22m\u001b[39m to `C:\\Users\\andre\\.julia\\environments\\v1.7\\Project.toml`\n",
      "\u001b[32m\u001b[1m  No Changes\u001b[22m\u001b[39m to `C:\\Users\\andre\\.julia\\environments\\v1.7\\Manifest.toml`\n"
     ]
    }
   ],
   "source": [
    "Pkg.add(\"GLM\")\n",
    "using GLM"
   ]
  },
  {
   "cell_type": "code",
   "execution_count": 10,
   "id": "a86821c2",
   "metadata": {},
   "outputs": [
    {
     "data": {
      "text/plain": [
       "ols_coeff (generic function with 1 method)"
      ]
     },
     "execution_count": 10,
     "metadata": {},
     "output_type": "execute_result"
    }
   ],
   "source": [
    "function ols_coeff(Y,X)\n",
    "    data = DataFrame(X=x, Y=y)\n",
    "    ols = lm(@formula(Y ~ X), data)\n",
    "    betas = coef(ols)\n",
    "    beta1 = betas[2]\n",
    "    return(beta1)\n",
    "end"
   ]
  },
  {
   "cell_type": "code",
   "execution_count": 11,
   "id": "4536d1ed",
   "metadata": {},
   "outputs": [
    {
     "data": {
      "text/plain": [
       "1.8897099069232624"
      ]
     },
     "execution_count": 11,
     "metadata": {},
     "output_type": "execute_result"
    }
   ],
   "source": [
    "ols_coeff(y,x)"
   ]
  },
  {
   "cell_type": "code",
   "execution_count": 12,
   "id": "57b1b70d",
   "metadata": {},
   "outputs": [
    {
     "data": {
      "text/plain": [
       "BenchmarkTools.Trial: 10000 samples with 545 evaluations.\n",
       " Range \u001b[90m(\u001b[39m\u001b[36m\u001b[1mmin\u001b[22m\u001b[39m … \u001b[35mmax\u001b[39m\u001b[90m):  \u001b[39m\u001b[36m\u001b[1m208.624 ns\u001b[22m\u001b[39m … \u001b[35m  3.530 μs\u001b[39m  \u001b[90m┊\u001b[39m GC \u001b[90m(\u001b[39mmin … max\u001b[90m): \u001b[39m0.00% … 91.67%\n",
       " Time  \u001b[90m(\u001b[39m\u001b[34m\u001b[1mmedian\u001b[22m\u001b[39m\u001b[90m):     \u001b[39m\u001b[34m\u001b[1m220.183 ns               \u001b[22m\u001b[39m\u001b[90m┊\u001b[39m GC \u001b[90m(\u001b[39mmedian\u001b[90m):    \u001b[39m0.00%\n",
       " Time  \u001b[90m(\u001b[39m\u001b[32m\u001b[1mmean\u001b[22m\u001b[39m ± \u001b[32mσ\u001b[39m\u001b[90m):   \u001b[39m\u001b[32m\u001b[1m245.270 ns\u001b[22m\u001b[39m ± \u001b[32m207.771 ns\u001b[39m  \u001b[90m┊\u001b[39m GC \u001b[90m(\u001b[39mmean ± σ\u001b[90m):  \u001b[39m6.80% ±  7.49%\n",
       "\n",
       "  \u001b[39m▅\u001b[39m█\u001b[34m▇\u001b[39m\u001b[39m▆\u001b[39m▅\u001b[39m▄\u001b[39m▂\u001b[32m▁\u001b[39m\u001b[39m \u001b[39m \u001b[39m▂\u001b[39m▂\u001b[39m▁\u001b[39m \u001b[39m \u001b[39m \u001b[39m \u001b[39m \u001b[39m \u001b[39m \u001b[39m \u001b[39m \u001b[39m \u001b[39m \u001b[39m \u001b[39m \u001b[39m \u001b[39m \u001b[39m \u001b[39m \u001b[39m \u001b[39m \u001b[39m \u001b[39m \u001b[39m \u001b[39m \u001b[39m \u001b[39m \u001b[39m \u001b[39m \u001b[39m \u001b[39m \u001b[39m \u001b[39m \u001b[39m \u001b[39m \u001b[39m \u001b[39m \u001b[39m \u001b[39m \u001b[39m \u001b[39m \u001b[39m \u001b[39m \u001b[39m \u001b[39m \u001b[39m \u001b[39m \u001b[39m \u001b[39m \u001b[39m \u001b[39m \u001b[39m▂\n",
       "  \u001b[39m█\u001b[39m█\u001b[34m█\u001b[39m\u001b[39m█\u001b[39m█\u001b[39m█\u001b[39m█\u001b[32m█\u001b[39m\u001b[39m█\u001b[39m█\u001b[39m█\u001b[39m█\u001b[39m█\u001b[39m█\u001b[39m█\u001b[39m▇\u001b[39m▆\u001b[39m▄\u001b[39m▄\u001b[39m▃\u001b[39m▄\u001b[39m▄\u001b[39m▅\u001b[39m▅\u001b[39m▄\u001b[39m▃\u001b[39m▅\u001b[39m▃\u001b[39m▅\u001b[39m▄\u001b[39m▆\u001b[39m▄\u001b[39m▃\u001b[39m▃\u001b[39m▃\u001b[39m▃\u001b[39m▁\u001b[39m▄\u001b[39m▃\u001b[39m▁\u001b[39m▁\u001b[39m▃\u001b[39m▁\u001b[39m▁\u001b[39m▁\u001b[39m▁\u001b[39m▁\u001b[39m▁\u001b[39m▁\u001b[39m▄\u001b[39m▇\u001b[39m▇\u001b[39m▆\u001b[39m▆\u001b[39m▄\u001b[39m▄\u001b[39m▄\u001b[39m▆\u001b[39m▆\u001b[39m▇\u001b[39m▇\u001b[39m \u001b[39m█\n",
       "  209 ns\u001b[90m        \u001b[39m\u001b[90mHistogram: \u001b[39m\u001b[90m\u001b[1mlog(\u001b[22m\u001b[39m\u001b[90mfrequency\u001b[39m\u001b[90m\u001b[1m)\u001b[22m\u001b[39m\u001b[90m by time\u001b[39m        524 ns \u001b[0m\u001b[1m<\u001b[22m\n",
       "\n",
       " Memory estimate\u001b[90m: \u001b[39m\u001b[33m592 bytes\u001b[39m, allocs estimate\u001b[90m: \u001b[39m\u001b[33m3\u001b[39m."
      ]
     },
     "execution_count": 12,
     "metadata": {},
     "output_type": "execute_result"
    }
   ],
   "source": [
    "# Benchmark - Modelo 1 (\"matemático\")\n",
    "@benchmark mat_coeff(y,x)\n"
   ]
  },
  {
   "cell_type": "code",
   "execution_count": 13,
   "id": "77d8e291",
   "metadata": {},
   "outputs": [
    {
     "data": {
      "text/plain": [
       "BenchmarkTools.Trial: 10000 samples with 1 evaluation.\n",
       " Range \u001b[90m(\u001b[39m\u001b[36m\u001b[1mmin\u001b[22m\u001b[39m … \u001b[35mmax\u001b[39m\u001b[90m):  \u001b[39m\u001b[36m\u001b[1m16.300 μs\u001b[22m\u001b[39m … \u001b[35m  7.620 ms\u001b[39m  \u001b[90m┊\u001b[39m GC \u001b[90m(\u001b[39mmin … max\u001b[90m): \u001b[39m0.00% … 98.81%\n",
       " Time  \u001b[90m(\u001b[39m\u001b[34m\u001b[1mmedian\u001b[22m\u001b[39m\u001b[90m):     \u001b[39m\u001b[34m\u001b[1m18.900 μs               \u001b[22m\u001b[39m\u001b[90m┊\u001b[39m GC \u001b[90m(\u001b[39mmedian\u001b[90m):    \u001b[39m0.00%\n",
       " Time  \u001b[90m(\u001b[39m\u001b[32m\u001b[1mmean\u001b[22m\u001b[39m ± \u001b[32mσ\u001b[39m\u001b[90m):   \u001b[39m\u001b[32m\u001b[1m22.668 μs\u001b[22m\u001b[39m ± \u001b[32m128.952 μs\u001b[39m  \u001b[90m┊\u001b[39m GC \u001b[90m(\u001b[39mmean ± σ\u001b[90m):  \u001b[39m9.78% ±  1.72%\n",
       "\n",
       "  \u001b[39m \u001b[39m▁\u001b[39m█\u001b[39m▇\u001b[39m▃\u001b[39m▁\u001b[39m \u001b[39m \u001b[34m \u001b[39m\u001b[39m \u001b[39m \u001b[39m \u001b[39m \u001b[39m \u001b[39m \u001b[39m \u001b[39m \u001b[39m \u001b[39m \u001b[39m \u001b[39m \u001b[32m \u001b[39m\u001b[39m \u001b[39m \u001b[39m \u001b[39m \u001b[39m \u001b[39m \u001b[39m \u001b[39m \u001b[39m \u001b[39m \u001b[39m \u001b[39m \u001b[39m \u001b[39m \u001b[39m \u001b[39m \u001b[39m \u001b[39m \u001b[39m \u001b[39m \u001b[39m \u001b[39m \u001b[39m \u001b[39m \u001b[39m \u001b[39m \u001b[39m \u001b[39m \u001b[39m \u001b[39m \u001b[39m \u001b[39m \u001b[39m \u001b[39m \u001b[39m \u001b[39m \u001b[39m \u001b[39m \u001b[39m \u001b[39m \n",
       "  \u001b[39m▂\u001b[39m█\u001b[39m█\u001b[39m█\u001b[39m█\u001b[39m█\u001b[39m█\u001b[39m▇\u001b[34m▆\u001b[39m\u001b[39m▆\u001b[39m▅\u001b[39m▄\u001b[39m▄\u001b[39m▄\u001b[39m▄\u001b[39m▄\u001b[39m▄\u001b[39m▄\u001b[39m▄\u001b[39m▅\u001b[39m▄\u001b[32m▄\u001b[39m\u001b[39m▃\u001b[39m▃\u001b[39m▃\u001b[39m▃\u001b[39m▃\u001b[39m▃\u001b[39m▃\u001b[39m▃\u001b[39m▂\u001b[39m▂\u001b[39m▂\u001b[39m▂\u001b[39m▂\u001b[39m▂\u001b[39m▂\u001b[39m▁\u001b[39m▁\u001b[39m▂\u001b[39m▁\u001b[39m▁\u001b[39m▁\u001b[39m▁\u001b[39m▁\u001b[39m▁\u001b[39m▁\u001b[39m▁\u001b[39m▁\u001b[39m▁\u001b[39m▁\u001b[39m▁\u001b[39m▁\u001b[39m▁\u001b[39m▁\u001b[39m▁\u001b[39m▁\u001b[39m▁\u001b[39m▁\u001b[39m▁\u001b[39m \u001b[39m▂\n",
       "  16.3 μs\u001b[90m         Histogram: frequency by time\u001b[39m         34.9 μs \u001b[0m\u001b[1m<\u001b[22m\n",
       "\n",
       " Memory estimate\u001b[90m: \u001b[39m\u001b[33m15.05 KiB\u001b[39m, allocs estimate\u001b[90m: \u001b[39m\u001b[33m189\u001b[39m."
      ]
     },
     "execution_count": 13,
     "metadata": {},
     "output_type": "execute_result"
    }
   ],
   "source": [
    "# Benchmark - Modelo 2 (\"GLM\")\n",
    "@benchmark ols_coeff(y,x)"
   ]
  },
  {
   "cell_type": "markdown",
   "id": "9478c587",
   "metadata": {},
   "source": [
    "## Benchmark Solution:"
   ]
  },
  {
   "cell_type": "markdown",
   "id": "30354617",
   "metadata": {},
   "source": [
    "<div align=\"center\">\n",
    "    <a href=\"https://pt.wikipedia.org/wiki/Ordens_de_magnitude_para_tempo\">Ordens de magnitude para tempo</a>:\n",
    "</div>\n",
    "\n",
    "| Fator           | Múltiplo      | Símbolo |\n",
    "|-----------------|:-------------:|:-------:|\n",
    "|10<sup>-9</sup>  |1 nanossegundo | ns      |\n",
    "|10<sup>-6</sup>  |1 microssegundo| µs      |"
   ]
  },
  {
   "cell_type": "code",
   "execution_count": 14,
   "id": "13443f21",
   "metadata": {},
   "outputs": [],
   "source": [
    "# Benchmark Time (mean):\n",
    "Mean_Model1 = 250072*10^-9;\n",
    "Mean_Model2 = 24871*10^-6;"
   ]
  },
  {
   "cell_type": "code",
   "execution_count": 15,
   "id": "4bb1d98f",
   "metadata": {},
   "outputs": [
    {
     "name": "stdout",
     "output_type": "stream",
     "text": [
      "Tempo em segundos para o cálculo do coeficiente:\n",
      "Expressão Matemática = 0.00025\n",
      "Modelo GLM = 0.02487\n",
      "A função 'Matemática' é mais rápida para calcular o coeficiente.\n"
     ]
    }
   ],
   "source": [
    "println(\"Tempo em segundos para o cálculo do coeficiente:\", \"\\nExpressão Matemática = \", round(Mean_Model1;digits=5),\"\\nModelo GLM = \", round(Mean_Model2;digits=5))\n",
    "\n",
    "if Mean_Model1 > Mean_Model2\n",
    "    println(\"A função GLM é mais rápida para calcular o coeficiente.\")\n",
    "else\n",
    "    println(\"A função 'Matemática' é mais rápida para calcular o coeficiente.\")\n",
    "end"
   ]
  },
  {
   "cell_type": "markdown",
   "id": "ce708a0b",
   "metadata": {},
   "source": [
    "**Referências:**\n",
    "* [Ciência de Dados e Computação Científica com Julia](https://storopoli.io/Computacao-Cientifica/2_BenchmarkTools/)\n",
    "* [BenchmarkTools.jl](https://juliaci.github.io/BenchmarkTools.jl/stable/)\n",
    "* [juliastats.org](https://juliastats.org/GLM.jl/stable/examples/)\n",
    "* [Julia - GLM Documentation](https://juliastats.org/GLM.jl/v0.11/)\n",
    "* [Ordens de magnitude para tempo](https://pt.wikipedia.org/wiki/Ordens_de_magnitude_para_tempo)\n",
    "* [Github Chow_Test Julia](https://github.com/andrelmfsantos/Chow_Test/blob/main/Chow%20Test%20Julia%20-%20Atelier.ipynb)\n",
    "* [First-time setup: Install Julia & Pluto](https://computationalthinking.mit.edu/Fall20/installation/)"
   ]
  },
  {
   "cell_type": "code",
   "execution_count": null,
   "id": "ff821edf",
   "metadata": {},
   "outputs": [],
   "source": []
  }
 ],
 "metadata": {
  "kernelspec": {
   "display_name": "Julia 1.7.2",
   "language": "julia",
   "name": "julia-1.7"
  },
  "language_info": {
   "file_extension": ".jl",
   "mimetype": "application/julia",
   "name": "julia",
   "version": "1.7.2"
  }
 },
 "nbformat": 4,
 "nbformat_minor": 5
}
