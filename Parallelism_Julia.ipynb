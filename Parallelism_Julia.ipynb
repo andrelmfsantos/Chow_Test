{
 "cells": [
  {
   "cell_type": "markdown",
   "id": "45fe3aec",
   "metadata": {},
   "source": [
    "<pre>\n",
    "<img align=\"center\" width=\"300\" src=\"https://portal.coren-sp.gov.br/wp-content/uploads/2014/11/logo%20uninove.png\">\n",
    "</pre>\n",
    "\n",
    "<pre>\n",
    "<img align=\"left\" width=\"150\" src=\"https://camo.githubusercontent.com/bdc6a3b8963aa99ff57dfd6e1e4b937bd2e752bcb1f1936f90368e5c3a38f670/68747470733a2f2f696d672e736869656c64732e696f2f62616467652f4c6963656e73652d434325323042592d2d5341253230342e302d6c69676874677265792e737667\">\n",
    "</pre>"
   ]
  },
  {
   "cell_type": "markdown",
   "id": "7fba91df",
   "metadata": {},
   "source": [
    "* __PPGI - UNINOVE__\n",
    "* Computação Científica com Julia\n",
    "* Prof. José E. Storópoli\n",
    "* Aluno: André Santos"
   ]
  },
  {
   "cell_type": "code",
   "execution_count": 10,
   "id": "b854e83e",
   "metadata": {},
   "outputs": [
    {
     "name": "stderr",
     "output_type": "stream",
     "text": [
      "\u001b[32m\u001b[1m   Resolving\u001b[22m\u001b[39m package versions...\n",
      "\u001b[32m\u001b[1m  No Changes\u001b[22m\u001b[39m to `C:\\Users\\andre\\.julia\\environments\\v1.7\\Project.toml`\n",
      "\u001b[32m\u001b[1m  No Changes\u001b[22m\u001b[39m to `C:\\Users\\andre\\.julia\\environments\\v1.7\\Manifest.toml`\n"
     ]
    }
   ],
   "source": [
    "# Packages requires to load the dataset\n",
    "using Pkg\n",
    "Pkg.add(\"DataFrames\")\n",
    "using DataFrames"
   ]
  },
  {
   "cell_type": "code",
   "execution_count": 11,
   "id": "662b062f",
   "metadata": {},
   "outputs": [
    {
     "name": "stdout",
     "output_type": "stream",
     "text": [
      "\u001b[32m\u001b[1m      Status\u001b[22m\u001b[39m `C:\\Users\\andre\\.julia\\environments\\v1.7\\Project.toml`\n",
      " \u001b[90m [6e4b80f9] \u001b[39mBenchmarkTools v1.3.1\n",
      " \u001b[90m [a93c6f00] \u001b[39mDataFrames v1.3.3\n",
      " \u001b[90m [41a02a25] \u001b[39mFolds v0.2.8\n",
      " \u001b[90m [38e38edf] \u001b[39mGLM v1.7.0\n",
      " \u001b[90m [7073ff75] \u001b[39mIJulia v1.23.3\n",
      " \u001b[90m [91a5bcdd] \u001b[39mPlots v1.25.9\n",
      " \u001b[90m [c3e4b0f8] \u001b[39mPluto v0.19.3\n"
     ]
    }
   ],
   "source": [
    "# Packages installed\n",
    "Pkg.status()"
   ]
  },
  {
   "cell_type": "code",
   "execution_count": 12,
   "id": "56cb7892",
   "metadata": {},
   "outputs": [],
   "source": [
    "date = [1992,1993,1994,1995,1996,1997,1998,1999,2000,2001,2002,2003,2004,2005,2006,2007,2008,2009,2010,2011,\n",
    "    2012,2013,2014,2015,2016,2017,2018,2019];\n",
    "    \n",
    "pop = [2,1,4,2,1,4,2,2,1,6,7,7,8,8,8,8,11,11,13,21,21,36,24,41,46,46,59,53];\n",
    "df = DataFrame( varx = date, vary = pop);"
   ]
  },
  {
   "cell_type": "markdown",
   "id": "9501ce25",
   "metadata": {},
   "source": [
    "## Get the sum of the squares of the residuals (total, before and after break point)"
   ]
  },
  {
   "cell_type": "code",
   "execution_count": 13,
   "id": "579ed56b",
   "metadata": {},
   "outputs": [
    {
     "data": {
      "text/html": [
       "<div class=\"data-frame\"><p>9 rows × 2 columns</p><table class=\"data-frame\"><thead><tr><th></th><th>varx</th><th>vary</th></tr><tr><th></th><th title=\"Int64\">Int64</th><th title=\"Int64\">Int64</th></tr></thead><tbody><tr><th>1</th><td>2011</td><td>21</td></tr><tr><th>2</th><td>2012</td><td>21</td></tr><tr><th>3</th><td>2013</td><td>36</td></tr><tr><th>4</th><td>2014</td><td>24</td></tr><tr><th>5</th><td>2015</td><td>41</td></tr><tr><th>6</th><td>2016</td><td>46</td></tr><tr><th>7</th><td>2017</td><td>46</td></tr><tr><th>8</th><td>2018</td><td>59</td></tr><tr><th>9</th><td>2019</td><td>53</td></tr></tbody></table></div>"
      ],
      "text/latex": [
       "\\begin{tabular}{r|cc}\n",
       "\t& varx & vary\\\\\n",
       "\t\\hline\n",
       "\t& Int64 & Int64\\\\\n",
       "\t\\hline\n",
       "\t1 & 2011 & 21 \\\\\n",
       "\t2 & 2012 & 21 \\\\\n",
       "\t3 & 2013 & 36 \\\\\n",
       "\t4 & 2014 & 24 \\\\\n",
       "\t5 & 2015 & 41 \\\\\n",
       "\t6 & 2016 & 46 \\\\\n",
       "\t7 & 2017 & 46 \\\\\n",
       "\t8 & 2018 & 59 \\\\\n",
       "\t9 & 2019 & 53 \\\\\n",
       "\\end{tabular}\n"
      ],
      "text/plain": [
       "\u001b[1m9×2 DataFrame\u001b[0m\n",
       "\u001b[1m Row \u001b[0m│\u001b[1m varx  \u001b[0m\u001b[1m vary  \u001b[0m\n",
       "\u001b[1m     \u001b[0m│\u001b[90m Int64 \u001b[0m\u001b[90m Int64 \u001b[0m\n",
       "─────┼──────────────\n",
       "   1 │  2011     21\n",
       "   2 │  2012     21\n",
       "   3 │  2013     36\n",
       "   4 │  2014     24\n",
       "   5 │  2015     41\n",
       "   6 │  2016     46\n",
       "   7 │  2017     46\n",
       "   8 │  2018     59\n",
       "   9 │  2019     53"
      ]
     },
     "execution_count": 13,
     "metadata": {},
     "output_type": "execute_result"
    }
   ],
   "source": [
    "# Define time series for Chow test:\n",
    "#point break = 2010\n",
    "start_df1, end_df1 = 1992, 2010                                      # range for series 1 (obs:\"end_df1 = point break\")\n",
    "start_df2, end_df2 = end_df1+1, 2019                                 # range for series 2\n",
    "df1 = filter(r -> r.varx >= start_df1 && r.varx <= end_df1, df)      # time series before point break\n",
    "df2 = filter(r -> r.varx >= start_df2 && r.varx <= end_df2, df)      # time series after point break"
   ]
  },
  {
   "cell_type": "code",
   "execution_count": 14,
   "id": "d4f4ec5b",
   "metadata": {},
   "outputs": [
    {
     "data": {
      "text/plain": [
       "([2011, 2012, 2013, 2014, 2015, 2016, 2017, 2018, 2019], [21, 21, 36, 24, 41, 46, 46, 59, 53])"
      ]
     },
     "execution_count": 14,
     "metadata": {},
     "output_type": "execute_result"
    }
   ],
   "source": [
    "# Variables for Chow test:\n",
    "x , y = copy(df[:,:varx]), copy(df[:,:vary])         # variables from original dataset\n",
    "x1 , y1 = copy(df1[:,:varx]), copy(df1[:,:vary])     # variables from series before point break\n",
    "x2 , y2 = copy(df2[:,:varx]), copy(df2[:,:vary])     # variables from series after point break"
   ]
  },
  {
   "cell_type": "code",
   "execution_count": 15,
   "id": "a460cc8b",
   "metadata": {},
   "outputs": [
    {
     "data": {
      "text/plain": [
       "233.95555555557337"
      ]
     },
     "execution_count": 15,
     "metadata": {},
     "output_type": "execute_result"
    }
   ],
   "source": [
    "# Alternative formulas ***************************************************************************************************\n",
    "# Original dataset ----------------------------------------------------------------------------------------------- \n",
    "k = 2                                        # number of samples (series before and after point break)\n",
    "n = length(x)                                # total scores from original dataset\n",
    "sum_x, sum_y = sum(x), sum(y)                # sum of independent and dependent variables from original series\n",
    "mean_x, mean_y = sum(x)/n, sum(y)/n          # average of independent and dependent variables from original series\n",
    "SSxy = sum((x.-mean_x).*(y.-mean_y))         # covariance of X and Y\n",
    "SSxx = sum((x.-mean_x).^2)                   # variance in X\n",
    "b = SSxy/SSxx                                # regression coefficient\n",
    "a = mean_y - b*mean_x                        # intercept\n",
    "yi = a .+ b.*x                               # estimated (or predicted) y value for observation i\n",
    "RSSp = sum((y .- yi).^2)                     # Resiual sum of square (errors)\n",
    "# Series 1 ------------------------------------------------------------------------------------------------------ \n",
    "n1 = length(x1)                              # total scores from series 1\n",
    "gl1 = n1 - k                                 # numerator degrees freedom\n",
    "sum_x1, sum_y1 = sum(x1), sum(y1)            # sum of independent and dependent variables from series 1\n",
    "mean_x1, mean_y1 = sum(x1)/n1, sum(y1)/n1    # average of independent and dependent variables from series 1\n",
    "SSxy1 = sum((x1.-mean_x1).*(y1.-mean_y1))    # covariance of X1 and Y1\n",
    "SSxx1 = sum((x1.-mean_x1).^2)                # variance in X1\n",
    "b1 = SSxy1/SSxx1                             # regression coefficient (series 1)\n",
    "a1 = mean_y1 - b1*mean_x1                    # intercept (series 1)\n",
    "yi1 = a1 .+ b1.*x1                           # estimated y value for observation i (series 1)\n",
    "RSS1 = sum((y1 .- yi1).^2)                   # Residual sum of square before break\n",
    "# Series 2 ------------------------------------------------------------------------------------------------------ \n",
    "n2 = length(x2)                              # total scores from series 2\n",
    "gl2 = n2 - k                                 # denominator degrees freedom\n",
    "sum_x2, sum_y2 = sum(x2), sum(y2)            # sum of independent and dependent variables from series 2\n",
    "mean_x2, mean_y2 = sum(x2)/n2, sum(y2)/n2    # average of independent and dependent variables from series 2\n",
    "SSxy2 = sum((x2.-mean_x2).*(y2.-mean_y2))    # covariance of X2 and Y2\n",
    "SSxx2 = sum((x2.-mean_x2).^2)                # variance in X2\n",
    "b2 = SSxy2/SSxx2                             # regression coefficient (series 2)\n",
    "a2 = mean_y2 - b2*mean_x2                    # intercept (series 2)\n",
    "yi2 = a2 .+ b2.*x2                           # estimated y value for observation i (series 2)\n",
    "RSS2 = sum((y2 .- yi2).^2)                   # Residual sum of square after break"
   ]
  },
  {
   "cell_type": "markdown",
   "id": "897e0c67",
   "metadata": {},
   "source": [
    "## [Data parallelism](https://juliafolds.github.io/data-parallelism/tutorials/quick-introduction/)"
   ]
  },
  {
   "cell_type": "code",
   "execution_count": 3,
   "id": "565aa0de",
   "metadata": {},
   "outputs": [
    {
     "name": "stderr",
     "output_type": "stream",
     "text": [
      "\u001b[32m\u001b[1m    Updating\u001b[22m\u001b[39m registry at `C:\\Users\\andre\\.julia\\registries\\General.toml`\n",
      "\u001b[32m\u001b[1m   Resolving\u001b[22m\u001b[39m package versions...\n",
      "\u001b[32m\u001b[1m   Installed\u001b[22m\u001b[39m Accessors ────────── v0.1.11\n",
      "\u001b[32m\u001b[1m   Installed\u001b[22m\u001b[39m ZygoteRules ──────── v0.2.2\n",
      "\u001b[32m\u001b[1m   Installed\u001b[22m\u001b[39m DefineSingletons ─── v0.1.2\n",
      "\u001b[32m\u001b[1m   Installed\u001b[22m\u001b[39m ArgCheck ─────────── v2.3.0\n",
      "\u001b[32m\u001b[1m   Installed\u001b[22m\u001b[39m MicroCollections ─── v0.1.2\n",
      "\u001b[32m\u001b[1m   Installed\u001b[22m\u001b[39m Referenceables ───── v0.1.2\n",
      "\u001b[32m\u001b[1m   Installed\u001b[22m\u001b[39m InitialValues ────── v0.3.1\n",
      "\u001b[32m\u001b[1m   Installed\u001b[22m\u001b[39m BangBang ─────────── v0.3.36\n",
      "\u001b[32m\u001b[1m   Installed\u001b[22m\u001b[39m ConstructionBase ─── v1.3.0\n",
      "\u001b[32m\u001b[1m   Installed\u001b[22m\u001b[39m Setfield ─────────── v0.8.2\n",
      "\u001b[32m\u001b[1m   Installed\u001b[22m\u001b[39m CompositionsBase ─── v0.1.1\n",
      "\u001b[32m\u001b[1m   Installed\u001b[22m\u001b[39m Baselet ──────────── v0.1.1\n",
      "\u001b[32m\u001b[1m   Installed\u001b[22m\u001b[39m ExternalDocstrings ─ v0.1.1\n",
      "\u001b[32m\u001b[1m   Installed\u001b[22m\u001b[39m ThreadedScans ────── v0.1.0\n",
      "\u001b[32m\u001b[1m   Installed\u001b[22m\u001b[39m SplittablesBase ──── v0.1.14\n",
      "\u001b[32m\u001b[1m   Installed\u001b[22m\u001b[39m Folds ────────────── v0.2.8\n",
      "\u001b[32m\u001b[1m   Installed\u001b[22m\u001b[39m Transducers ──────── v0.4.73\n",
      "\u001b[32m\u001b[1m    Updating\u001b[22m\u001b[39m `C:\\Users\\andre\\.julia\\environments\\v1.7\\Project.toml`\n",
      " \u001b[90m [41a02a25] \u001b[39m\u001b[92m+ Folds v0.2.8\u001b[39m\n",
      "\u001b[32m\u001b[1m    Updating\u001b[22m\u001b[39m `C:\\Users\\andre\\.julia\\environments\\v1.7\\Manifest.toml`\n",
      " \u001b[90m [7d9f7c33] \u001b[39m\u001b[92m+ Accessors v0.1.11\u001b[39m\n",
      " \u001b[90m [dce04be8] \u001b[39m\u001b[92m+ ArgCheck v2.3.0\u001b[39m\n",
      " \u001b[90m [198e06fe] \u001b[39m\u001b[92m+ BangBang v0.3.36\u001b[39m\n",
      " \u001b[90m [9718e550] \u001b[39m\u001b[92m+ Baselet v0.1.1\u001b[39m\n",
      " \u001b[90m [a33af91c] \u001b[39m\u001b[92m+ CompositionsBase v0.1.1\u001b[39m\n",
      " \u001b[90m [187b0558] \u001b[39m\u001b[92m+ ConstructionBase v1.3.0\u001b[39m\n",
      " \u001b[90m [244e2a9f] \u001b[39m\u001b[92m+ DefineSingletons v0.1.2\u001b[39m\n",
      " \u001b[90m [e189563c] \u001b[39m\u001b[92m+ ExternalDocstrings v0.1.1\u001b[39m\n",
      " \u001b[90m [41a02a25] \u001b[39m\u001b[92m+ Folds v0.2.8\u001b[39m\n",
      " \u001b[90m [22cec73e] \u001b[39m\u001b[92m+ InitialValues v0.3.1\u001b[39m\n",
      " \u001b[90m [128add7d] \u001b[39m\u001b[92m+ MicroCollections v0.1.2\u001b[39m\n",
      " \u001b[90m [42d2dcc6] \u001b[39m\u001b[92m+ Referenceables v0.1.2\u001b[39m\n",
      " \u001b[90m [efcf1570] \u001b[39m\u001b[92m+ Setfield v0.8.2\u001b[39m\n",
      " \u001b[90m [171d559e] \u001b[39m\u001b[92m+ SplittablesBase v0.1.14\u001b[39m\n",
      " \u001b[90m [24d252fe] \u001b[39m\u001b[92m+ ThreadedScans v0.1.0\u001b[39m\n",
      " \u001b[90m [28d57a85] \u001b[39m\u001b[92m+ Transducers v0.4.73\u001b[39m\n",
      " \u001b[90m [700de1a5] \u001b[39m\u001b[92m+ ZygoteRules v0.2.2\u001b[39m\n",
      "\u001b[32m\u001b[1mPrecompiling\u001b[22m\u001b[39m project...\n",
      "\u001b[32m  ✓ \u001b[39m\u001b[90mArgCheck\u001b[39m\n",
      "\u001b[32m  ✓ \u001b[39m\u001b[90mInitialValues\u001b[39m\n",
      "\u001b[32m  ✓ \u001b[39m\u001b[90mExternalDocstrings\u001b[39m\n",
      "\u001b[32m  ✓ \u001b[39m\u001b[90mCompositionsBase\u001b[39m\n",
      "\u001b[32m  ✓ \u001b[39m\u001b[90mDefineSingletons\u001b[39m\n",
      "\u001b[32m  ✓ \u001b[39m\u001b[90mZygoteRules\u001b[39m\n",
      "\u001b[32m  ✓ \u001b[39m\u001b[90mReferenceables\u001b[39m\n",
      "\u001b[32m  ✓ \u001b[39m\u001b[90mConstructionBase\u001b[39m\n",
      "\u001b[32m  ✓ \u001b[39m\u001b[90mBaselet\u001b[39m\n",
      "\u001b[32m  ✓ \u001b[39m\u001b[90mThreadedScans\u001b[39m\n",
      "\u001b[32m  ✓ \u001b[39m\u001b[90mAccessors\u001b[39m\n",
      "\u001b[32m  ✓ \u001b[39m\u001b[90mSetfield\u001b[39m\n",
      "\u001b[32m  ✓ \u001b[39m\u001b[90mSplittablesBase\u001b[39m\n",
      "\u001b[32m  ✓ \u001b[39m\u001b[90mBangBang\u001b[39m\n",
      "\u001b[32m  ✓ \u001b[39m\u001b[90mMicroCollections\u001b[39m\n",
      "\u001b[32m  ✓ \u001b[39m\u001b[90mTransducers\u001b[39m\n",
      "\u001b[32m  ✓ \u001b[39mFolds\n",
      "  17 dependencies successfully precompiled in 18 seconds (161 already precompiled)\n"
     ]
    }
   ],
   "source": [
    "#Pkg.add(\"Folds\")"
   ]
  },
  {
   "cell_type": "code",
   "execution_count": 5,
   "id": "2228108f",
   "metadata": {},
   "outputs": [],
   "source": [
    "using Folds"
   ]
  },
  {
   "cell_type": "code",
   "execution_count": 17,
   "id": "95ecc6ad",
   "metadata": {},
   "outputs": [
    {
     "data": {
      "text/plain": [
       "mat_coeff (generic function with 1 method)"
      ]
     },
     "execution_count": 17,
     "metadata": {},
     "output_type": "execute_result"
    }
   ],
   "source": [
    "# Return regression coefficient\n",
    "function mat_coeff(y, x)\n",
    "    k = 2\n",
    "    n = length(x)\n",
    "    sum_x, sum_y = sum(x), sum(y)\n",
    "    mean_x, mean_y = sum(x)/n, sum(y)/n\n",
    "    SSxy = sum((x.-mean_x).*(y.-mean_y))\n",
    "    SSxx = sum((x.-mean_x).^2)\n",
    "    b = SSxy/SSxx\n",
    "    return(b)\n",
    "end"
   ]
  },
  {
   "cell_type": "code",
   "execution_count": 21,
   "id": "23f53728",
   "metadata": {},
   "outputs": [
    {
     "data": {
      "text/plain": [
       "mat_coeff1 (generic function with 1 method)"
      ]
     },
     "execution_count": 21,
     "metadata": {},
     "output_type": "execute_result"
    }
   ],
   "source": [
    "# Return regression coefficient\n",
    "function mat_coeff1(y, x)\n",
    "    k = 2\n",
    "    n = length(x)\n",
    "    sum_x, sum_y = sum(x), sum(y)\n",
    "    mean_x, mean_y = sum(x)/n, sum(y)/n\n",
    "    SSxy = Folds.sum((x.-mean_x).*(y.-mean_y))  # parallelism\n",
    "    SSxx = Folds.sum((x.-mean_x).^2)            # parallelism\n",
    "    b = SSxy/SSxx\n",
    "    return(b)\n",
    "end"
   ]
  },
  {
   "cell_type": "code",
   "execution_count": 27,
   "id": "5e56f979",
   "metadata": {},
   "outputs": [
    {
     "name": "stdout",
     "output_type": "stream",
     "text": [
      "1.889709906951286\n",
      "1.889709906951286\n"
     ]
    }
   ],
   "source": [
    "# Results:\n",
    "println(mat_coeff(y, x))\n",
    "println(mat_coeff1(y, x))"
   ]
  },
  {
   "cell_type": "markdown",
   "id": "3da92cf5",
   "metadata": {},
   "source": [
    "## [BenchmarkTools.jl](https://juliaci.github.io/BenchmarkTools.jl/stable/)"
   ]
  },
  {
   "cell_type": "code",
   "execution_count": 28,
   "id": "6e7a6364",
   "metadata": {},
   "outputs": [],
   "source": [
    "# Packages requires to load the dataset\n",
    "#using Pkg\n",
    "#Pkg.add(\"BenchmarkTools\")\n",
    "using BenchmarkTools"
   ]
  },
  {
   "cell_type": "code",
   "execution_count": 29,
   "id": "bddcf643",
   "metadata": {},
   "outputs": [
    {
     "name": "stdout",
     "output_type": "stream",
     "text": [
      "  225.636 ns (3 allocations: 592 bytes)\n"
     ]
    },
    {
     "data": {
      "text/plain": [
       "1.889709906951286"
      ]
     },
     "execution_count": 29,
     "metadata": {},
     "output_type": "execute_result"
    }
   ],
   "source": [
    "@btime mat_coeff(y, x)"
   ]
  },
  {
   "cell_type": "code",
   "execution_count": 30,
   "id": "1b6ec594",
   "metadata": {},
   "outputs": [
    {
     "name": "stdout",
     "output_type": "stream",
     "text": [
      "  367.647 ns (5 allocations: 624 bytes)\n"
     ]
    },
    {
     "data": {
      "text/plain": [
       "1.889709906951286"
      ]
     },
     "execution_count": 30,
     "metadata": {},
     "output_type": "execute_result"
    }
   ],
   "source": [
    "@btime mat_coeff1(y, x)"
   ]
  },
  {
   "cell_type": "code",
   "execution_count": 31,
   "id": "a952eb83",
   "metadata": {},
   "outputs": [
    {
     "data": {
      "text/plain": [
       "BenchmarkTools.Trial: 10000 samples with 535 evaluations.\n",
       " Range \u001b[90m(\u001b[39m\u001b[36m\u001b[1mmin\u001b[22m\u001b[39m … \u001b[35mmax\u001b[39m\u001b[90m):  \u001b[39m\u001b[36m\u001b[1m214.393 ns\u001b[22m\u001b[39m … \u001b[35m  4.547 μs\u001b[39m  \u001b[90m┊\u001b[39m GC \u001b[90m(\u001b[39mmin … max\u001b[90m): \u001b[39m0.00% … 89.25%\n",
       " Time  \u001b[90m(\u001b[39m\u001b[34m\u001b[1mmedian\u001b[22m\u001b[39m\u001b[90m):     \u001b[39m\u001b[34m\u001b[1m239.252 ns               \u001b[22m\u001b[39m\u001b[90m┊\u001b[39m GC \u001b[90m(\u001b[39mmedian\u001b[90m):    \u001b[39m0.00%\n",
       " Time  \u001b[90m(\u001b[39m\u001b[32m\u001b[1mmean\u001b[22m\u001b[39m ± \u001b[32mσ\u001b[39m\u001b[90m):   \u001b[39m\u001b[32m\u001b[1m312.144 ns\u001b[22m\u001b[39m ± \u001b[32m292.453 ns\u001b[39m  \u001b[90m┊\u001b[39m GC \u001b[90m(\u001b[39mmean ± σ\u001b[90m):  \u001b[39m7.33% ±  7.53%\n",
       "\n",
       "  \u001b[39m▇\u001b[39m█\u001b[39m▇\u001b[39m▅\u001b[34m▅\u001b[39m\u001b[39m▄\u001b[39m▃\u001b[39m▂\u001b[39m▁\u001b[39m▂\u001b[39m▂\u001b[39m▂\u001b[39m▁\u001b[39m \u001b[39m \u001b[39m▁\u001b[32m \u001b[39m\u001b[39m \u001b[39m \u001b[39m \u001b[39m \u001b[39m▁\u001b[39m▁\u001b[39m▂\u001b[39m▃\u001b[39m▄\u001b[39m▄\u001b[39m▅\u001b[39m▅\u001b[39m▄\u001b[39m▄\u001b[39m▄\u001b[39m▃\u001b[39m▂\u001b[39m▁\u001b[39m \u001b[39m \u001b[39m \u001b[39m \u001b[39m \u001b[39m \u001b[39m \u001b[39m \u001b[39m \u001b[39m \u001b[39m \u001b[39m \u001b[39m \u001b[39m \u001b[39m \u001b[39m \u001b[39m \u001b[39m \u001b[39m \u001b[39m \u001b[39m \u001b[39m \u001b[39m \u001b[39m \u001b[39m \u001b[39m \u001b[39m \u001b[39m▂\n",
       "  \u001b[39m█\u001b[39m█\u001b[39m█\u001b[39m█\u001b[34m█\u001b[39m\u001b[39m█\u001b[39m█\u001b[39m█\u001b[39m█\u001b[39m█\u001b[39m█\u001b[39m█\u001b[39m█\u001b[39m█\u001b[39m█\u001b[39m█\u001b[32m█\u001b[39m\u001b[39m█\u001b[39m█\u001b[39m█\u001b[39m█\u001b[39m█\u001b[39m█\u001b[39m█\u001b[39m█\u001b[39m█\u001b[39m█\u001b[39m█\u001b[39m█\u001b[39m█\u001b[39m█\u001b[39m█\u001b[39m█\u001b[39m█\u001b[39m█\u001b[39m█\u001b[39m█\u001b[39m▇\u001b[39m▇\u001b[39m▆\u001b[39m▆\u001b[39m▅\u001b[39m▅\u001b[39m▆\u001b[39m▇\u001b[39m▆\u001b[39m▇\u001b[39m█\u001b[39m▆\u001b[39m▆\u001b[39m▇\u001b[39m▅\u001b[39m▅\u001b[39m▅\u001b[39m▅\u001b[39m▄\u001b[39m▅\u001b[39m▆\u001b[39m▅\u001b[39m▅\u001b[39m▅\u001b[39m \u001b[39m█\n",
       "  214 ns\u001b[90m        \u001b[39m\u001b[90mHistogram: \u001b[39m\u001b[90m\u001b[1mlog(\u001b[22m\u001b[39m\u001b[90mfrequency\u001b[39m\u001b[90m\u001b[1m)\u001b[22m\u001b[39m\u001b[90m by time\u001b[39m        581 ns \u001b[0m\u001b[1m<\u001b[22m\n",
       "\n",
       " Memory estimate\u001b[90m: \u001b[39m\u001b[33m592 bytes\u001b[39m, allocs estimate\u001b[90m: \u001b[39m\u001b[33m3\u001b[39m."
      ]
     },
     "execution_count": 31,
     "metadata": {},
     "output_type": "execute_result"
    }
   ],
   "source": [
    "@benchmark mat_coeff(y,x)"
   ]
  },
  {
   "cell_type": "code",
   "execution_count": 32,
   "id": "d77fa9de",
   "metadata": {},
   "outputs": [
    {
     "data": {
      "text/plain": [
       "BenchmarkTools.Trial: 10000 samples with 211 evaluations.\n",
       " Range \u001b[90m(\u001b[39m\u001b[36m\u001b[1mmin\u001b[22m\u001b[39m … \u001b[35mmax\u001b[39m\u001b[90m):  \u001b[39m\u001b[36m\u001b[1m368.246 ns\u001b[22m\u001b[39m … \u001b[35m 14.390 μs\u001b[39m  \u001b[90m┊\u001b[39m GC \u001b[90m(\u001b[39mmin … max\u001b[90m): \u001b[39m0.00% … 94.70%\n",
       " Time  \u001b[90m(\u001b[39m\u001b[34m\u001b[1mmedian\u001b[22m\u001b[39m\u001b[90m):     \u001b[39m\u001b[34m\u001b[1m419.431 ns               \u001b[22m\u001b[39m\u001b[90m┊\u001b[39m GC \u001b[90m(\u001b[39mmedian\u001b[90m):    \u001b[39m0.00%\n",
       " Time  \u001b[90m(\u001b[39m\u001b[32m\u001b[1mmean\u001b[22m\u001b[39m ± \u001b[32mσ\u001b[39m\u001b[90m):   \u001b[39m\u001b[32m\u001b[1m558.870 ns\u001b[22m\u001b[39m ± \u001b[32m594.087 ns\u001b[39m  \u001b[90m┊\u001b[39m GC \u001b[90m(\u001b[39mmean ± σ\u001b[90m):  \u001b[39m5.24% ±  4.98%\n",
       "\n",
       "  \u001b[39m█\u001b[39m▇\u001b[39m▅\u001b[39m▄\u001b[34m▄\u001b[39m\u001b[39m▄\u001b[39m▄\u001b[39m▃\u001b[39m▁\u001b[39m▁\u001b[39m \u001b[39m \u001b[39m \u001b[39m \u001b[39m \u001b[39m \u001b[39m \u001b[32m \u001b[39m\u001b[39m \u001b[39m \u001b[39m \u001b[39m \u001b[39m \u001b[39m▁\u001b[39m▁\u001b[39m▂\u001b[39m▃\u001b[39m▄\u001b[39m▅\u001b[39m▅\u001b[39m▅\u001b[39m▅\u001b[39m▄\u001b[39m▄\u001b[39m▃\u001b[39m▂\u001b[39m▂\u001b[39m▁\u001b[39m \u001b[39m \u001b[39m \u001b[39m \u001b[39m \u001b[39m \u001b[39m \u001b[39m \u001b[39m \u001b[39m \u001b[39m \u001b[39m \u001b[39m \u001b[39m \u001b[39m \u001b[39m \u001b[39m \u001b[39m \u001b[39m \u001b[39m \u001b[39m \u001b[39m \u001b[39m \u001b[39m \u001b[39m▂\n",
       "  \u001b[39m█\u001b[39m█\u001b[39m█\u001b[39m█\u001b[34m█\u001b[39m\u001b[39m█\u001b[39m█\u001b[39m█\u001b[39m█\u001b[39m█\u001b[39m█\u001b[39m█\u001b[39m▇\u001b[39m▇\u001b[39m█\u001b[39m▇\u001b[39m▆\u001b[32m▅\u001b[39m\u001b[39m▅\u001b[39m▆\u001b[39m▇\u001b[39m▇\u001b[39m▇\u001b[39m█\u001b[39m█\u001b[39m█\u001b[39m█\u001b[39m█\u001b[39m█\u001b[39m█\u001b[39m█\u001b[39m█\u001b[39m█\u001b[39m█\u001b[39m█\u001b[39m█\u001b[39m█\u001b[39m█\u001b[39m█\u001b[39m▇\u001b[39m▆\u001b[39m▆\u001b[39m▅\u001b[39m▆\u001b[39m▅\u001b[39m▃\u001b[39m▁\u001b[39m▁\u001b[39m▄\u001b[39m▃\u001b[39m▃\u001b[39m▄\u001b[39m▄\u001b[39m▄\u001b[39m▄\u001b[39m▁\u001b[39m▃\u001b[39m▄\u001b[39m▆\u001b[39m█\u001b[39m█\u001b[39m \u001b[39m█\n",
       "  368 ns\u001b[90m        \u001b[39m\u001b[90mHistogram: \u001b[39m\u001b[90m\u001b[1mlog(\u001b[22m\u001b[39m\u001b[90mfrequency\u001b[39m\u001b[90m\u001b[1m)\u001b[22m\u001b[39m\u001b[90m by time\u001b[39m       1.07 μs \u001b[0m\u001b[1m<\u001b[22m\n",
       "\n",
       " Memory estimate\u001b[90m: \u001b[39m\u001b[33m624 bytes\u001b[39m, allocs estimate\u001b[90m: \u001b[39m\u001b[33m5\u001b[39m."
      ]
     },
     "execution_count": 32,
     "metadata": {},
     "output_type": "execute_result"
    }
   ],
   "source": [
    "@benchmark mat_coeff1(y,x)"
   ]
  },
  {
   "cell_type": "markdown",
   "id": "70363596",
   "metadata": {},
   "source": [
    "### Conclusão"
   ]
  },
  {
   "cell_type": "markdown",
   "id": "144de2c3",
   "metadata": {},
   "source": [
    "A função que utilizou paralelismo usou 32 bytes (624-592) de memória a e foi mais lenta em 142.011 nano segundos (367.647-225.636)."
   ]
  },
  {
   "cell_type": "markdown",
   "id": "32587a49",
   "metadata": {},
   "source": [
    "### Referências"
   ]
  },
  {
   "cell_type": "markdown",
   "id": "23ada184",
   "metadata": {},
   "source": [
    "* [Ciência de Dados e Computação Científica com Julia](https://storopoli.io/Computacao-Cientifica/2_BenchmarkTools/)\n",
    "* [BenchmarkTools.jl](https://juliaci.github.io/BenchmarkTools.jl/stable/)\n",
    "* [juliastats.org](https://juliastats.org/GLM.jl/stable/examples/)\n",
    "* [Julia - GLM Documentation](https://juliastats.org/GLM.jl/v0.11/)\n",
    "* [Ordens de magnitude para tempo](https://pt.wikipedia.org/wiki/Ordens_de_magnitude_para_tempo)\n",
    "* [Github Chow_Test Julia](https://github.com/andrelmfsantos/Chow_Test/blob/main/Chow%20Test%20Julia%20-%20Atelier.ipynb)\n",
    "* [First-time setup: Install Julia & Pluto](https://computationalthinking.mit.edu/Fall20/installation/)\n",
    "* [Data-parallel Julia](https://juliafolds.github.io/data-parallelism/tutorials/quick-introduction/)\n",
    "* [JuliaFolds](https://github.com/JuliaFolds)"
   ]
  }
 ],
 "metadata": {
  "kernelspec": {
   "display_name": "Julia 1.7.2",
   "language": "julia",
   "name": "julia-1.7"
  },
  "language_info": {
   "file_extension": ".jl",
   "mimetype": "application/julia",
   "name": "julia",
   "version": "1.7.2"
  }
 },
 "nbformat": 4,
 "nbformat_minor": 5
}
